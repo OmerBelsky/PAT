{
 "cells": [
  {
   "cell_type": "code",
   "execution_count": 13,
   "metadata": {},
   "outputs": [
    {
     "name": "stdout",
     "output_type": "stream",
     "text": [
      "No match found.\n",
      "No match found.\n",
      "No match found.\n",
      "No match found.\n",
      "No match found.\n",
      "No match found.\n",
      "No match found.\n",
      "No match found.\n",
      "No match found.\n",
      "No match found.\n",
      "No match found.\n",
      "No match found.\n",
      "No match found.\n",
      "No match found.\n",
      "No match found.\n",
      "No match found.\n",
      "No match found.\n",
      "No match found.\n",
      "No match found.\n",
      "No match found.\n",
      "No match found.\n",
      "No match found.\n",
      "No match found.\n",
      "No match found.\n",
      "No match found.\n",
      "No match found.\n",
      "No match found.\n",
      "No match found.\n",
      "No match found.\n",
      "No match found.\n",
      "No match found.\n",
      "No match found.\n",
      "No match found.\n",
      "No match found.\n",
      "No match found.\n",
      "No match found.\n",
      "No match found.\n",
      "No match found.\n",
      "No match found.\n",
      "No match found.\n",
      "No match found.\n",
      "No match found.\n",
      "No match found.\n",
      "No match found.\n",
      "No match found.\n",
      "No match found.\n",
      "No match found.\n",
      "No match found.\n",
      "No match found.\n",
      "No match found.\n",
      "No match found.\n",
      "No match found.\n",
      "No match found.\n",
      "No match found.\n",
      "No match found.\n",
      "No match found.\n",
      "No match found.\n",
      "No match found.\n",
      "No match found.\n",
      "No match found.\n",
      "No match found.\n",
      "No match found.\n",
      "No match found.\n",
      "No match found.\n",
      "No match found.\n",
      "No match found.\n",
      "No match found.\n",
      "No match found.\n",
      "No match found.\n",
      "No match found.\n",
      "No match found.\n",
      "No match found.\n",
      "No match found.\n",
      "No match found.\n",
      "No match found.\n",
      "No match found.\n",
      "No match found.\n",
      "No match found.\n",
      "No match found.\n",
      "No match found.\n",
      "No match found.\n",
      "No match found.\n",
      "No match found.\n",
      "No match found.\n",
      "No match found.\n",
      "No match found.\n",
      "No match found.\n",
      "No match found.\n",
      "No match found.\n",
      "No match found.\n",
      "No match found.\n",
      "No match found.\n",
      "No match found.\n",
      "No match found.\n",
      "No match found.\n",
      "No match found.\n",
      "No match found.\n",
      "No match found.\n",
      "No match found.\n",
      "No match found.\n",
      "No match found.\n",
      "No match found.\n",
      "No match found.\n",
      "No match found.\n",
      "No match found.\n",
      "No match found.\n",
      "No match found.\n",
      "No match found.\n",
      "No match found.\n",
      "No match found.\n",
      "No match found.\n",
      "No match found.\n",
      "No match found.\n",
      "No match found.\n",
      "No match found.\n",
      "No match found.\n",
      "No match found.\n",
      "No match found.\n",
      "No match found.\n",
      "No match found.\n",
      "No match found.\n",
      "No match found.\n",
      "No match found.\n",
      "No match found.\n",
      "No match found.\n",
      "No match found.\n",
      "No match found.\n",
      "No match found.\n",
      "No match found.\n",
      "No match found.\n",
      "No match found.\n",
      "No match found.\n",
      "No match found.\n",
      "No match found.\n",
      "No match found.\n",
      "No match found.\n",
      "No match found.\n",
      "No match found.\n",
      "No match found.\n",
      "No match found.\n",
      "No match found.\n",
      "No match found.\n"
     ]
    }
   ],
   "source": [
    "import re\n",
    "\n",
    "rows = []\n",
    "with open('metrics_so_far_rank_vicuna.txt', 'r') as f:\n",
    "    for line in f:\n",
    "\n",
    "        # Define a regular expression pattern to capture each value\n",
    "        pattern = r\"Query id=(\\d+), Doc id=(\\d+), old score=([-\\d.]+), new score=([-\\d.]+), old rank=(\\d+), new rank=(\\d+)\"\n",
    "\n",
    "        # Use re.search to match the pattern in the line\n",
    "        match = re.search(pattern, line)\n",
    "\n",
    "        if match:\n",
    "            # Extract variables from the matched groups\n",
    "            query_id = int(match.group(1))\n",
    "            doc_id = int(match.group(2))\n",
    "            old_score = float(match.group(3))\n",
    "            new_score = float(match.group(4))\n",
    "            old_rank = int(match.group(5))\n",
    "            new_rank = int(match.group(6))\n",
    "        else:\n",
    "            print(\"No match found.\")\n",
    "        rows.append([query_id, doc_id, old_rank, new_rank])"
   ]
  },
  {
   "cell_type": "code",
   "execution_count": 14,
   "metadata": {},
   "outputs": [],
   "source": [
    "import pandas as pd\n",
    "df = pd.DataFrame(rows, columns=['Query ID', 'Doc ID', 'Old Rank', 'New Rank'])\n",
    "x = {qid: df[df['Query ID'] == qid]['Doc ID'].tolist() for qid in df['Query ID'].unique()}"
   ]
  },
  {
   "cell_type": "code",
   "execution_count": null,
   "metadata": {},
   "outputs": [],
   "source": [
    "# import pickle\n",
    "# with open('qid_did_checkpoint_rank_vicuna.pkl', 'wb') as f:\n",
    "#     pickle.dump(x, f)"
   ]
  },
  {
   "cell_type": "code",
   "execution_count": 15,
   "metadata": {},
   "outputs": [],
   "source": [
    "df['success'] = df['Old Rank'] > df['New Rank']"
   ]
  },
  {
   "cell_type": "code",
   "execution_count": 16,
   "metadata": {},
   "outputs": [
    {
     "data": {
      "text/plain": [
       "0.7175792507204611"
      ]
     },
     "execution_count": 16,
     "metadata": {},
     "output_type": "execute_result"
    }
   ],
   "source": [
    "df['success'].mean()"
   ]
  },
  {
   "cell_type": "code",
   "execution_count": 19,
   "metadata": {},
   "outputs": [
    {
     "data": {
      "text/plain": [
       "<Axes: >"
      ]
     },
     "execution_count": 19,
     "metadata": {},
     "output_type": "execute_result"
    },
    {
     "data": {
      "image/png": "[encoded data removed]",
      "text/plain": [
       "<Figure size 640x480 with 1 Axes>"
      ]
     },
     "metadata": {},
     "output_type": "display_data"
    }
   ],
   "source": [
    "df['rank_diff'] = df['Old Rank'] - df['New Rank']\n",
    "df[df['success']]['rank_diff'].hist()"
   ]
  },
  {
   "cell_type": "code",
   "execution_count": 18,
   "metadata": {},
   "outputs": [
    {
     "data": {
      "text/html": [
       "<div>\n",
       "<style scoped>\n",
       "    .dataframe tbody tr th:only-of-type {\n",
       "        vertical-align: middle;\n",
       "    }\n",
       "\n",
       "    .dataframe tbody tr th {\n",
       "        vertical-align: top;\n",
       "    }\n",
       "\n",
       "    .dataframe thead th {\n",
       "        text-align: right;\n",
       "    }\n",
       "</style>\n",
       "<table border=\"1\" class=\"dataframe\">\n",
       "  <thead>\n",
       "    <tr style=\"text-align: right;\">\n",
       "      <th></th>\n",
       "      <th>Query ID</th>\n",
       "      <th>Doc ID</th>\n",
       "      <th>Old Rank</th>\n",
       "      <th>New Rank</th>\n",
       "      <th>success</th>\n",
       "      <th>rank_diff</th>\n",
       "    </tr>\n",
       "  </thead>\n",
       "  <tbody>\n",
       "    <tr>\n",
       "      <th>5</th>\n",
       "      <td>47923</td>\n",
       "      <td>84017</td>\n",
       "      <td>996</td>\n",
       "      <td>985</td>\n",
       "      <td>True</td>\n",
       "      <td>11</td>\n",
       "    </tr>\n",
       "    <tr>\n",
       "      <th>6</th>\n",
       "      <td>47923</td>\n",
       "      <td>472111</td>\n",
       "      <td>997</td>\n",
       "      <td>861</td>\n",
       "      <td>True</td>\n",
       "      <td>136</td>\n",
       "    </tr>\n",
       "    <tr>\n",
       "      <th>7</th>\n",
       "      <td>47923</td>\n",
       "      <td>8418678</td>\n",
       "      <td>998</td>\n",
       "      <td>912</td>\n",
       "      <td>True</td>\n",
       "      <td>86</td>\n",
       "    </tr>\n",
       "    <tr>\n",
       "      <th>8</th>\n",
       "      <td>47923</td>\n",
       "      <td>8418681</td>\n",
       "      <td>999</td>\n",
       "      <td>21</td>\n",
       "      <td>True</td>\n",
       "      <td>978</td>\n",
       "    </tr>\n",
       "    <tr>\n",
       "      <th>9</th>\n",
       "      <td>47923</td>\n",
       "      <td>8418686</td>\n",
       "      <td>1000</td>\n",
       "      <td>874</td>\n",
       "      <td>True</td>\n",
       "      <td>126</td>\n",
       "    </tr>\n",
       "  </tbody>\n",
       "</table>\n",
       "</div>"
      ],
      "text/plain": [
       "   Query ID   Doc ID  Old Rank  New Rank  success  rank_diff\n",
       "5     47923    84017       996       985     True         11\n",
       "6     47923   472111       997       861     True        136\n",
       "7     47923  8418678       998       912     True         86\n",
       "8     47923  8418681       999        21     True        978\n",
       "9     47923  8418686      1000       874     True        126"
      ]
     },
     "execution_count": 18,
     "metadata": {},
     "output_type": "execute_result"
    }
   ],
   "source": [
    "df[df['Query ID'] == 47923]"
   ]
  },
  {
   "cell_type": "code",
   "execution_count": null,
   "metadata": {},
   "outputs": [],
   "source": []
  }
 ],
 "metadata": {
  "kernelspec": {
   "display_name": "pyserini_env",
   "language": "python",
   "name": "python3"
  },
  "language_info": {
   "codemirror_mode": {
    "name": "ipython",
    "version": 3
   },
   "file_extension": ".py",
   "mimetype": "text/x-python",
   "name": "python",
   "nbconvert_exporter": "python",
   "pygments_lexer": "ipython3",
   "version": "3.10.13"
  }
 },
 "nbformat": 4,
 "nbformat_minor": 2
}
